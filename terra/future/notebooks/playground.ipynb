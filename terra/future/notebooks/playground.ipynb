{
 "cells": [
  {
   "cell_type": "markdown",
   "source": [
    "# load library"
   ],
   "metadata": {
    "collapsed": false
   }
  },
  {
   "cell_type": "code",
   "execution_count": 1,
   "outputs": [],
   "source": [
    "# auto reloading of local scripts under dev\n",
    "%load_ext autoreload\n",
    "%autoreload 2"
   ],
   "metadata": {
    "collapsed": false,
    "pycharm": {
     "name": "#%%\n"
    }
   }
  },
  {
   "cell_type": "code",
   "execution_count": 2,
   "outputs": [],
   "source": [
    "# relying on these stdlib anyway\n",
    "import http\n",
    "import re\n",
    "import os\n",
    "import sys\n",
    "import pandas as pd"
   ],
   "metadata": {
    "collapsed": false,
    "pycharm": {
     "name": "#%%\n"
    }
   }
  },
  {
   "cell_type": "code",
   "execution_count": 3,
   "outputs": [],
   "source": [
    "# Google Cloud and FISS\n",
    "from firecloud import api as fapi\n",
    "\n",
    "from google.cloud import storage\n",
    "storage_client = storage.Client()"
   ],
   "metadata": {
    "collapsed": false,
    "pycharm": {
     "name": "#%%\n"
    }
   }
  },
  {
   "cell_type": "code",
   "execution_count": 4,
   "outputs": [],
   "source": [
    "# load local lib\n",
    "module_path = os.path.abspath(os.path.join('..'))\n",
    "if module_path not in sys.path:\n",
    "    sys.path.append(module_path)\n",
    "\n",
    "from terra.future.src.table_utils import *"
   ],
   "metadata": {
    "collapsed": false,
    "pycharm": {
     "name": "#%%\n"
    }
   }
  },
  {
   "cell_type": "code",
   "execution_count": 4,
   "outputs": [],
   "source": [],
   "metadata": {
    "collapsed": false,
    "pycharm": {
     "name": "#%%\n"
    }
   }
  },
  {
   "cell_type": "markdown",
   "source": [
    "# load data"
   ],
   "metadata": {
    "collapsed": false
   }
  },
  {
   "cell_type": "code",
   "execution_count": 5,
   "outputs": [],
   "source": [
    "primary_namespace = 'production-long-reads'\n",
    "primary_workspace = 'broad-gp-pacbio'\n",
    "root_data_type='sample'\n",
    "root_table = \\\n",
    "  fetch_existing_root_table(ns=primary_namespace,\n",
    "                            ws=primary_workspace,\n",
    "                            etype=root_data_type)"
   ],
   "metadata": {
    "collapsed": false,
    "pycharm": {
     "name": "#%%\n"
    }
   }
  },
  {
   "cell_type": "code",
   "execution_count": 6,
   "outputs": [],
   "source": [
    "categorical_columns = {'type': 'category',\n",
    "                       'columns': ['application', 'experiment_type', 'instrument', 'workspace']}\n",
    "\n",
    "date_time_columns = {'type': 'datetime64',\n",
    "                     'columns': []}\n",
    "\n",
    "boolean_columns = {'type': 'bool',\n",
    "                   'columns': ['is_ccs', 'is_corrected', 'is_isoseq']}\n",
    "\n",
    "int_type_columns = {'type': 'int64',\n",
    "                    'columns': ['insert_size']}\n",
    "\n",
    "float_type_columns = {'type': 'float64',\n",
    "                      'columns': ['lod_expected_sample']}\n",
    "\n",
    "string_type_columns = {'type': 'str',\n",
    "                       'columns': ['flowcell_id', 'bio_sample', 'description', 'well_sample', 'movie_name', 'well_name', 'sample']}"
   ],
   "metadata": {
    "collapsed": false,
    "pycharm": {
     "name": "#%%\n"
    }
   }
  },
  {
   "cell_type": "code",
   "execution_count": 7,
   "outputs": [],
   "source": [
    "for n in boolean_columns['columns']:\n",
    "    root_table[n] = root_table[n].astype('bool')"
   ],
   "metadata": {
    "collapsed": false,
    "pycharm": {
     "name": "#%%\n"
    }
   }
  },
  {
   "cell_type": "code",
   "execution_count": 8,
   "outputs": [],
   "source": [
    "for n in categorical_columns['columns']:\n",
    "    root_table[n] = root_table[n].astype('category')"
   ],
   "metadata": {
    "collapsed": false,
    "pycharm": {
     "name": "#%%\n"
    }
   }
  },
  {
   "cell_type": "code",
   "execution_count": 9,
   "outputs": [],
   "source": [
    "for n in int_type_columns['columns']:\n",
    "    root_table[n] = root_table[n].astype('int64')"
   ],
   "metadata": {
    "collapsed": false,
    "pycharm": {
     "name": "#%%\n"
    }
   }
  },
  {
   "cell_type": "code",
   "execution_count": 10,
   "outputs": [],
   "source": [
    "for n in string_type_columns['columns']:\n",
    "    root_table[n] = root_table[n].astype('str')"
   ],
   "metadata": {
    "collapsed": false,
    "pycharm": {
     "name": "#%%\n"
    }
   }
  },
  {
   "cell_type": "code",
   "execution_count": 11,
   "outputs": [],
   "source": [
    "for n in float_type_columns['columns']:\n",
    "    root_table[n] = root_table[n].astype('float64')"
   ],
   "metadata": {
    "collapsed": false,
    "pycharm": {
     "name": "#%%\n"
    }
   }
  },
  {
   "cell_type": "code",
   "execution_count": 12,
   "outputs": [],
   "source": [
    "desired_columns_in_order = ['flowcell_id', 'bio_sample', 'description', 'well_sample',\n",
    "                            'raw_est_fold_cov',\n",
    "                            'lod_expected_sample', 'fingerprint_vcf', 'aligned_bam',\n",
    "                            'application', 'experiment_type',\n",
    "                            'is_ccs', 'is_corrected', 'is_isoseq',\n",
    "                            'instrument', 'movie_name', 'well_name', 'insert_size',\n",
    "                            'sample', 'workspace']"
   ],
   "metadata": {
    "collapsed": false,
    "pycharm": {
     "name": "#%%\n"
    }
   }
  },
  {
   "cell_type": "code",
   "execution_count": 13,
   "outputs": [],
   "source": [
    "gmkf_flowcells = root_table.loc[root_table['workspace'].apply(lambda e: 'GMKF' in str(e)),:]"
   ],
   "metadata": {
    "collapsed": false,
    "pycharm": {
     "name": "#%%\n"
    }
   }
  },
  {
   "cell_type": "code",
   "execution_count": null,
   "outputs": [],
   "source": [],
   "metadata": {
    "collapsed": false,
    "pycharm": {
     "name": "#%%\n"
    }
   }
  },
  {
   "cell_type": "code",
   "execution_count": null,
   "outputs": [],
   "source": [],
   "metadata": {
    "collapsed": false,
    "pycharm": {
     "name": "#%%\n"
    }
   }
  },
  {
   "cell_type": "code",
   "execution_count": null,
   "outputs": [],
   "source": [],
   "metadata": {
    "collapsed": false,
    "pycharm": {
     "name": "#%%\n"
    }
   }
  },
  {
   "cell_type": "code",
   "execution_count": null,
   "outputs": [],
   "source": [],
   "metadata": {
    "collapsed": false,
    "pycharm": {
     "name": "#%%\n"
    }
   }
  },
  {
   "cell_type": "code",
   "execution_count": null,
   "outputs": [],
   "source": [],
   "metadata": {
    "collapsed": false,
    "pycharm": {
     "name": "#%%\n"
    }
   }
  },
  {
   "cell_type": "code",
   "execution_count": 16,
   "outputs": [],
   "source": [
    "needed_samples = ['SM-JPU9W', 'SM-K6CQJ']"
   ],
   "metadata": {
    "collapsed": false,
    "pycharm": {
     "name": "#%%\n"
    }
   }
  },
  {
   "cell_type": "code",
   "execution_count": null,
   "outputs": [],
   "source": [],
   "metadata": {
    "collapsed": false,
    "pycharm": {
     "name": "#%%\n"
    }
   }
  },
  {
   "cell_type": "code",
   "execution_count": 18,
   "outputs": [],
   "source": [
    "swap_1120 = root_table.loc[root_table['well_sample'].isin(needed_samples),:]"
   ],
   "metadata": {
    "collapsed": false,
    "pycharm": {
     "name": "#%%\n"
    }
   }
  },
  {
   "cell_type": "code",
   "execution_count": 23,
   "outputs": [
    {
     "data": {
      "text/plain": "    flowcell_id bio_sample  description well_sample   raw_est_fold_cov  \\\n339    DA105374    1-02032  CG0037-9194    SM-JPU9W  1.288426949405146   \n444    DA105098    1-02032  CG0037-9194    SM-JPU9W   4.82098361925469   \n655    DA105356    1-09889  CG0037-9170    SM-K6CQJ  8.232344372112829   \n\n     lod_expected_sample fingerprint_vcf  \\\n339                  NaN             nan   \n444                  NaN             nan   \n655                  0.0             nan   \n\n                                           aligned_bam application  \\\n339  gs://broad-gp-pacbio-outgoing/results/PBFlowce...   hifiReads   \n444  gs://broad-gp-pacbio-outgoing/results/PBFlowce...   hifiReads   \n655  gs://broad-gp-pacbio-outgoing/results/PBFlowce...   hifiReads   \n\n    experiment_type  is_ccs  is_corrected  is_isoseq instrument  \\\n339             CCS    True          True       True     64271e   \n444             CCS    True          True       True     64271e   \n655             CCS    True          True       True     64271e   \n\n                movie_name well_name  insert_size  \\\n339  m64271e_210810_163247       D01        20000   \n444  m64271e_210903_223116       D01        20000   \n655  m64271e_210809_053602       C01        16000   \n\n                                   sample                         workspace  \n339  84403350-6cfc-496a-91a3-97bb6fee00bf                               nan  \n444  b05ed615-3c54-47b8-af0b-a3cb2ba00201                               nan  \n655  fe968017-2b78-481b-93be-0ec33dfd9d8e  Gabriel_GMKFLRP_Gelb_PacBio_FY20  ",
      "text/html": "<div>\n<style scoped>\n    .dataframe tbody tr th:only-of-type {\n        vertical-align: middle;\n    }\n\n    .dataframe tbody tr th {\n        vertical-align: top;\n    }\n\n    .dataframe thead th {\n        text-align: right;\n    }\n</style>\n<table border=\"1\" class=\"dataframe\">\n  <thead>\n    <tr style=\"text-align: right;\">\n      <th></th>\n      <th>flowcell_id</th>\n      <th>bio_sample</th>\n      <th>description</th>\n      <th>well_sample</th>\n      <th>raw_est_fold_cov</th>\n      <th>lod_expected_sample</th>\n      <th>fingerprint_vcf</th>\n      <th>aligned_bam</th>\n      <th>application</th>\n      <th>experiment_type</th>\n      <th>is_ccs</th>\n      <th>is_corrected</th>\n      <th>is_isoseq</th>\n      <th>instrument</th>\n      <th>movie_name</th>\n      <th>well_name</th>\n      <th>insert_size</th>\n      <th>sample</th>\n      <th>workspace</th>\n    </tr>\n  </thead>\n  <tbody>\n    <tr>\n      <th>339</th>\n      <td>DA105374</td>\n      <td>1-02032</td>\n      <td>CG0037-9194</td>\n      <td>SM-JPU9W</td>\n      <td>1.288426949405146</td>\n      <td>NaN</td>\n      <td>nan</td>\n      <td>gs://broad-gp-pacbio-outgoing/results/PBFlowce...</td>\n      <td>hifiReads</td>\n      <td>CCS</td>\n      <td>True</td>\n      <td>True</td>\n      <td>True</td>\n      <td>64271e</td>\n      <td>m64271e_210810_163247</td>\n      <td>D01</td>\n      <td>20000</td>\n      <td>84403350-6cfc-496a-91a3-97bb6fee00bf</td>\n      <td>nan</td>\n    </tr>\n    <tr>\n      <th>444</th>\n      <td>DA105098</td>\n      <td>1-02032</td>\n      <td>CG0037-9194</td>\n      <td>SM-JPU9W</td>\n      <td>4.82098361925469</td>\n      <td>NaN</td>\n      <td>nan</td>\n      <td>gs://broad-gp-pacbio-outgoing/results/PBFlowce...</td>\n      <td>hifiReads</td>\n      <td>CCS</td>\n      <td>True</td>\n      <td>True</td>\n      <td>True</td>\n      <td>64271e</td>\n      <td>m64271e_210903_223116</td>\n      <td>D01</td>\n      <td>20000</td>\n      <td>b05ed615-3c54-47b8-af0b-a3cb2ba00201</td>\n      <td>nan</td>\n    </tr>\n    <tr>\n      <th>655</th>\n      <td>DA105356</td>\n      <td>1-09889</td>\n      <td>CG0037-9170</td>\n      <td>SM-K6CQJ</td>\n      <td>8.232344372112829</td>\n      <td>0.0</td>\n      <td>nan</td>\n      <td>gs://broad-gp-pacbio-outgoing/results/PBFlowce...</td>\n      <td>hifiReads</td>\n      <td>CCS</td>\n      <td>True</td>\n      <td>True</td>\n      <td>True</td>\n      <td>64271e</td>\n      <td>m64271e_210809_053602</td>\n      <td>C01</td>\n      <td>16000</td>\n      <td>fe968017-2b78-481b-93be-0ec33dfd9d8e</td>\n      <td>Gabriel_GMKFLRP_Gelb_PacBio_FY20</td>\n    </tr>\n  </tbody>\n</table>\n</div>"
     },
     "execution_count": 23,
     "metadata": {},
     "output_type": "execute_result"
    }
   ],
   "source": [
    "swap_1120[desired_columns_in_order]"
   ],
   "metadata": {
    "collapsed": false,
    "pycharm": {
     "name": "#%%\n"
    }
   }
  },
  {
   "cell_type": "code",
   "execution_count": 20,
   "outputs": [
    {
     "data": {
      "text/plain": "    Collab_Part_ID Collab_SM_ID Broad_LSID      FCID\n444        1-02032  CG0037-9194      JPU9W  DA105098\n339        1-02032  CG0037-9194      JPU9W  DA105374\n655        1-09889  CG0037-9170      K6CQJ  DA105356",
      "text/html": "<div>\n<style scoped>\n    .dataframe tbody tr th:only-of-type {\n        vertical-align: middle;\n    }\n\n    .dataframe tbody tr th {\n        vertical-align: top;\n    }\n\n    .dataframe thead th {\n        text-align: right;\n    }\n</style>\n<table border=\"1\" class=\"dataframe\">\n  <thead>\n    <tr style=\"text-align: right;\">\n      <th></th>\n      <th>Collab_Part_ID</th>\n      <th>Collab_SM_ID</th>\n      <th>Broad_LSID</th>\n      <th>FCID</th>\n    </tr>\n  </thead>\n  <tbody>\n    <tr>\n      <th>444</th>\n      <td>1-02032</td>\n      <td>CG0037-9194</td>\n      <td>JPU9W</td>\n      <td>DA105098</td>\n    </tr>\n    <tr>\n      <th>339</th>\n      <td>1-02032</td>\n      <td>CG0037-9194</td>\n      <td>JPU9W</td>\n      <td>DA105374</td>\n    </tr>\n    <tr>\n      <th>655</th>\n      <td>1-09889</td>\n      <td>CG0037-9170</td>\n      <td>K6CQJ</td>\n      <td>DA105356</td>\n    </tr>\n  </tbody>\n</table>\n</div>"
     },
     "execution_count": 20,
     "metadata": {},
     "output_type": "execute_result"
    }
   ],
   "source": [
    "missing_mercury_sample_ids = \\\n",
    "    swap_1120[['bio_sample', 'description', 'well_sample', 'flowcell_id']]\\\n",
    "        .rename({'bio_sample': 'Collab_Part_ID',\n",
    "                 'description': 'Collab_SM_ID',\n",
    "                 'well_sample': 'Broad_LSID',\n",
    "                 'flowcell_id': 'FCID'}, axis=1)\\\n",
    "        .sort_values(by=['Broad_LSID', 'Collab_Part_ID', 'FCID'], axis=0)\n",
    "missing_mercury_sample_ids['Broad_LSID'] = missing_mercury_sample_ids['Broad_LSID'].apply(lambda s: re.sub('^SM-', '', s))\n",
    "missing_mercury_sample_ids"
   ],
   "metadata": {
    "collapsed": false,
    "pycharm": {
     "name": "#%%\n"
    }
   }
  },
  {
   "cell_type": "code",
   "execution_count": 21,
   "outputs": [],
   "source": [
    "missing_mercury_sample_ids.to_csv('/Users/shuang/Desktop/swap_1120.csv',\n",
    "                                  sep=',', index=False, header=False)"
   ],
   "metadata": {
    "collapsed": false,
    "pycharm": {
     "name": "#%%\n"
    }
   }
  },
  {
   "cell_type": "code",
   "execution_count": 24,
   "outputs": [
    {
     "data": {
      "text/plain": "  flowcell_id                                    upload_location\n0    DA105374  gs://broad-gp-pacbio/r64271e_20210806_181631/4...\n1    DA105098  gs://broad-gp-pacbio/r64271e_20210830_132900/4...\n2    DA105356  gs://broad-gp-pacbio/r64271e_20210806_181631/3...",
      "text/html": "<div>\n<style scoped>\n    .dataframe tbody tr th:only-of-type {\n        vertical-align: middle;\n    }\n\n    .dataframe tbody tr th {\n        vertical-align: top;\n    }\n\n    .dataframe thead th {\n        text-align: right;\n    }\n</style>\n<table border=\"1\" class=\"dataframe\">\n  <thead>\n    <tr style=\"text-align: right;\">\n      <th></th>\n      <th>flowcell_id</th>\n      <th>upload_location</th>\n    </tr>\n  </thead>\n  <tbody>\n    <tr>\n      <th>0</th>\n      <td>DA105374</td>\n      <td>gs://broad-gp-pacbio/r64271e_20210806_181631/4...</td>\n    </tr>\n    <tr>\n      <th>1</th>\n      <td>DA105098</td>\n      <td>gs://broad-gp-pacbio/r64271e_20210830_132900/4...</td>\n    </tr>\n    <tr>\n      <th>2</th>\n      <td>DA105356</td>\n      <td>gs://broad-gp-pacbio/r64271e_20210806_181631/3...</td>\n    </tr>\n  </tbody>\n</table>\n</div>"
     },
     "execution_count": 24,
     "metadata": {},
     "output_type": "execute_result"
    }
   ],
   "source": [
    "where_to_upload = swap_1120[['flowcell_id', 'input_bam']].rename({'input_bam': 'upload_location'}, axis=1).reset_index(drop=True)\n",
    "where_to_upload['upload_location'] = where_to_upload['upload_location'].apply(lambda s: '/'.join(s.split('/')[:-1]))\n",
    "where_to_upload"
   ],
   "metadata": {
    "collapsed": false,
    "pycharm": {
     "name": "#%%\n"
    }
   }
  },
  {
   "cell_type": "code",
   "execution_count": 25,
   "outputs": [
    {
     "name": "stdout",
     "output_type": "stream",
     "text": [
      "==========\n",
      "DA105098\n",
      "==========\n",
      "DA105374\n",
      "==========\n",
      "DA105356\n"
     ]
    },
    {
     "data": {
      "text/plain": "0"
     },
     "execution_count": 25,
     "metadata": {},
     "output_type": "execute_result"
    }
   ],
   "source": [
    "where_to_upload.to_csv(f'/Users/shuang/Desktop/fingerprint_crosscheck/SWAP-1120/upload_locations.tsv',\n",
    "                       sep='\\t', header=False, index=False)\n",
    "os.system(f\"cd /Users/shuang/Desktop/fingerprint_crosscheck/SWAP-1120/ && bash upload.sh\")"
   ],
   "metadata": {
    "collapsed": false,
    "pycharm": {
     "name": "#%%\n"
    }
   }
  },
  {
   "cell_type": "code",
   "execution_count": null,
   "outputs": [],
   "source": [],
   "metadata": {
    "collapsed": false,
    "pycharm": {
     "name": "#%%\n"
    }
   }
  },
  {
   "cell_type": "code",
   "execution_count": 27,
   "outputs": [],
   "source": [
    "fp_vcf_gs_paths = pd.read_csv(\"/Users/shuang/Desktop/fingerprint_crosscheck/SWAP-1120/uploaded_gs_paths.txt\", sep='\\t')\n",
    "fc_2_vcf = dict(zip(fp_vcf_gs_paths.flowcell_id, fp_vcf_gs_paths.fp_vcf))\n",
    "fc_2_tbi = dict(zip(fp_vcf_gs_paths.flowcell_id, fp_vcf_gs_paths.fp_vcf_tbi))\n",
    "fc_2_terra_uuid = dict(zip(root_table['flowcell_id'].tolist(), root_table['sample'].tolist()))"
   ],
   "metadata": {
    "collapsed": false,
    "pycharm": {
     "name": "#%%\n"
    }
   }
  },
  {
   "cell_type": "code",
   "execution_count": 28,
   "outputs": [
    {
     "data": {
      "text/plain": "  flowcell_id                                             fp_vcf  \\\n0    DA105098  gs://broad-gp-pacbio/r64271e_20210830_132900/4...   \n1    DA105374  gs://broad-gp-pacbio/r64271e_20210806_181631/4...   \n2    DA105356  gs://broad-gp-pacbio/r64271e_20210806_181631/3...   \n\n                                          fp_vcf_tbi  \n0  gs://broad-gp-pacbio/r64271e_20210830_132900/4...  \n1  gs://broad-gp-pacbio/r64271e_20210806_181631/4...  \n2  gs://broad-gp-pacbio/r64271e_20210806_181631/3...  ",
      "text/html": "<div>\n<style scoped>\n    .dataframe tbody tr th:only-of-type {\n        vertical-align: middle;\n    }\n\n    .dataframe tbody tr th {\n        vertical-align: top;\n    }\n\n    .dataframe thead th {\n        text-align: right;\n    }\n</style>\n<table border=\"1\" class=\"dataframe\">\n  <thead>\n    <tr style=\"text-align: right;\">\n      <th></th>\n      <th>flowcell_id</th>\n      <th>fp_vcf</th>\n      <th>fp_vcf_tbi</th>\n    </tr>\n  </thead>\n  <tbody>\n    <tr>\n      <th>0</th>\n      <td>DA105098</td>\n      <td>gs://broad-gp-pacbio/r64271e_20210830_132900/4...</td>\n      <td>gs://broad-gp-pacbio/r64271e_20210830_132900/4...</td>\n    </tr>\n    <tr>\n      <th>1</th>\n      <td>DA105374</td>\n      <td>gs://broad-gp-pacbio/r64271e_20210806_181631/4...</td>\n      <td>gs://broad-gp-pacbio/r64271e_20210806_181631/4...</td>\n    </tr>\n    <tr>\n      <th>2</th>\n      <td>DA105356</td>\n      <td>gs://broad-gp-pacbio/r64271e_20210806_181631/3...</td>\n      <td>gs://broad-gp-pacbio/r64271e_20210806_181631/3...</td>\n    </tr>\n  </tbody>\n</table>\n</div>"
     },
     "execution_count": 28,
     "metadata": {},
     "output_type": "execute_result"
    }
   ],
   "source": [
    "fp_vcf_gs_paths\n"
   ],
   "metadata": {
    "collapsed": false,
    "pycharm": {
     "name": "#%%\n"
    }
   }
  },
  {
   "cell_type": "code",
   "execution_count": 29,
   "outputs": [
    {
     "data": {
      "text/plain": "{'DA103955': '01299f20-7ca3-4fdb-acb7-e98b304fe69b',\n 'DA047218': '01300ed1-77fe-41bb-92c2-7907dfb910c5',\n 'DA074276': '02acd991-eb6b-4820-bf38-ce4fbff6a6d6',\n 'DA005858': '036a73ba-d612-4e3b-834d-738972ca1b30',\n 'DA074064': '03777c72-3603-4314-9776-c52e60958340',\n 'DA005915': '03f1ba7b-674c-4405-9c4d-9cf9467099ae',\n 'DA134109': '04793461-05fc-4361-ba38-e8589e920c13',\n 'DA134006': '047d1630-2c74-40ca-827e-4f21c9f9d289',\n 'DA105301': '0483a603-24ce-4aa5-b77c-c24de3a3a745',\n 'DA105359': '050d60d6-d3d5-45c2-a6ac-6bfbb3e427e3',\n 'DA126120': '05162b6b-5e83-4d62-b630-0c1ae71ad9bf',\n 'DA112873': '056fd028-5f56-4773-8109-9cff7615a34c',\n 'DA026373': '05b4068e-ece1-4238-9cd2-3e6c50fe7bb3',\n 'DA012510': '05cc4cac-5c2b-4d0b-950e-d589c69b8908',\n 'DA074012': '05e1ae49-033d-4ed8-97f6-074ef7998c7f',\n 'DA007812': '05eb7421-22d0-4cc2-afd0-1f8c279b7a4b',\n 'DA013045': '0621700a-2a13-4a96-885e-72d7f694d378',\n 'DA126144': '066f0d1f-8fb3-4e4e-b25b-5407b029da6c',\n 'DA134004': '06fcfb2a-495d-40db-b72c-d237bbe294b7',\n 'DA105110': '07b4f327-f821-4400-915c-8e1fcbc8d5ce',\n 'DA112870': '085e080b-0261-4d24-97d5-b85e4a9f685f',\n 'DA112892': '085fcec4-f78f-4bd8-ace5-66d5f38d4c62',\n 'DA047217': '087310d1-a002-40bb-baa2-dfbd46f6792d',\n 'DA103900': '08bdc757-3700-4c72-bf9f-68789b203927',\n 'DA005513': '090d0bcb-5a58-4d11-ada6-64fb00f8e536',\n 'DA006074': '093ac9b6-92fb-4ade-91b0-9c6b6b4b0287',\n 'DA074312': '0a428eda-b4b2-4447-9a84-a6a6353f0e89',\n 'DA074279': '0bef6247-8dd3-4fcf-afb2-6b9703c58a48',\n 'DA013051': '0c20aee0-5043-428d-837a-646e88d536b5',\n 'DA106847': '0c4992d0-ef25-4f05-a00d-4cbb487d97b9',\n 'DA047253': '0c58f163-0e37-47e8-8b8a-a9e0bb0cf500',\n 'DA103654': '0cd8525e-ced2-4d44-b0a3-d1a5b7925d4d',\n 'DA105143': '0cf01c04-a60b-4fdc-813b-4515fccbe732',\n 'DA105111': '0d7c08d3-055a-4e0c-955f-733c4a8602fa',\n 'DA132641': '0da04fac-5ccf-47c9-9d8a-1dfb745fcd0c',\n 'DA106891': '0dadad4b-1244-4d40-bcf0-3153735bb0a9',\n 'DA103685': '0de14f19-8610-406f-9a08-723ee538b9d6',\n 'DA134659': '0e7fca0b-e82b-4b27-8f56-be9b5698a901',\n 'DA132620': '0ec460ef-b86b-42c7-8e71-b820c7557fab',\n 'DA126118': '0f5b8a98-fd66-4968-a06c-950348a98a59',\n 'DA143903': '0f5efbbc-21da-4480-80de-f396676c978e',\n 'DA106852': '0f79e6fe-6bc2-4e18-94cd-2405375ec4b5',\n 'DA105344': '0f9fcf09-6ee0-4070-a396-9aa625dfd73e',\n 'DA112887': '0f9fe5a5-36dd-48e1-855b-4cc565466ce1',\n 'DA134095': '0fd362cb-7e13-4796-9eba-92248ea9afde',\n 'DA126163': '1120d223-5014-4ea8-a4d9-c735d4276ae7',\n 'DA132616': '11375f9f-a828-4e68-9d8d-330a967fed22',\n 'DA126100': '119cc9f5-365a-49b4-8ce9-1e9b9e403e69',\n 'DA126167': '11a398b5-2277-43b5-9784-8119bc4c4482',\n 'DA133998': '11f43060-4d3e-409f-a187-58e7b4a2c67e',\n 'DA132525': '121e7120-43fb-4d2e-b6c1-d552c9f0f7ec',\n 'DA001868': '1235624c-8efe-4aab-95a6-213a71ee1991',\n 'DA047233': '1257f8cb-0211-4606-8e30-ad855adc1ca0',\n 'DA126092': '12c35d86-6050-4fe8-be95-c894cfc4a9c7',\n 'DA005909': '1336e35c-ad2c-44aa-bb3f-5f910299c8c8',\n 'DA074330': '13423466-ab0a-4c59-a1ee-be30317cfd3c',\n 'DA126088': '1342fea9-acec-440e-85f6-bdaf9caeddca',\n 'DA134641': '13dd60c3-9953-4d39-8705-1312b1ab6f35',\n 'DA132617': '146681b3-4173-42c7-b523-0445ef3ff54f',\n 'DA074040': '1481e2dd-0a04-4f99-9c71-cd87f8e7aa3e',\n 'DA134105': '1489fd99-3cd3-4108-99ef-3cae6d01eb70',\n 'DA106879': '14bf7a5f-bb28-479a-b2d1-38f3abd57178',\n 'DA006066': '15f4502b-004c-4cce-bf72-0061c457145d',\n 'DA126097': '163e08d8-151e-450d-9bcd-778593d18125',\n 'DA006104': '169789b7-f4f2-4b61-8646-d0a93cf4a300',\n 'DA126160': '16d6bfd6-0ed4-4dc6-bbf2-ddeac7b35d01',\n 'DA074261': '17199f50-9da3-4654-967d-9a35f32500e2',\n 'DA074053': '1782c28c-d435-438b-be2b-0a1ba4b64951',\n 'DA105358': '1791a0f3-8b37-4356-8a2e-1d69ad8fd220',\n 'DA010751': '18bdc130-243a-472f-aa9b-f22a0aacd528',\n 'DA005873': '19355b53-f7a3-4447-8bdc-5ec3b036a694',\n 'DA047252': '194cacb3-db7d-40d2-8d5a-44907c3b35e2',\n 'DA133931': '19f8c16b-1213-4e20-9521-d68ad5c6bfda',\n 'DA126117': '1a815770-3574-4c61-b2b8-6ae3ba0dac81',\n 'DA013032': '1a89b399-6c53-4348-a749-75c64ba9e437',\n 'DA103717': '1b2495a2-b82d-4739-bb1d-0c4695d773ba',\n 'DA103656': '1bc1f5a4-b7eb-4667-930d-5c82ebf46de9',\n 'DA074301': '1c508917-8394-40fd-a8ea-1e3d1dc21522',\n 'DA007744': '1c60172b-1912-48ef-ad48-f291846d32c4',\n 'DA134001': '1c749c39-fc33-4c98-9ffd-f8515613522b',\n 'DA105323': '1db783c2-051e-41f4-8978-e7896721da37',\n 'DA105100': '1dd18fbb-db0b-48f1-872f-78c93b59d131',\n 'DA105320': '1dfb3e50-d1b2-4e13-a90d-9ef7d960433a',\n 'DA074264': '1ee534c9-02b4-4bb1-9afa-a22485ef8f66',\n 'DA132621': '1fe002f2-0bca-477d-a036-42a984fb1a67',\n 'DA073869': '202a0467-0160-4d5b-b207-9e5effa01190',\n 'DA105302': '207cf8e1-16da-40d7-a3a2-df1aac813120',\n 'DA103720': '20b4d69d-a347-4c93-b45c-fe26d16cd3ac',\n 'DA016464': '21d3296f-4a47-4097-b1eb-17f540b2401d',\n 'DA074023': '21f00e94-4e65-499d-b6b6-f2cd0f46e8c3',\n 'DA133936': '220637cc-8b14-4db8-abeb-f8bf6bc8ba1f',\n 'DA074322': '22ad346a-b3e9-4c13-bac6-00898ce02091',\n 'DA074089': '231fa554-83c9-437b-9bed-f09c7f343290',\n 'DA074296': '232a5f84-0b24-47a2-857a-edd4c1f6a3e2',\n 'DA134093': '2390d5e4-8ea7-4fb4-bb83-08ed6271a9a1',\n 'DA103655': '23a55047-7f9b-4f40-b2cf-3502620cb137',\n 'DA105105': '24029c7d-547b-4949-b1a9-5c6075bb4b0b',\n 'DA112323': '2426cd68-31ff-425f-b7f4-4a4b846635ca',\n 'DA132502': '24be0518-2f7e-4bb9-a0cf-b939480bf553',\n 'DA074302': '24beb8d8-559d-454d-929e-5374f09db3bc',\n 'DA105148': '2548b02c-e0ad-4527-afec-915b32fcde64',\n 'DA074284': '257b028c-f327-4009-8c3a-ff8e39650b8c',\n 'DA108118': '2599b452-c0a2-4bec-aea4-93a4a85bd19e',\n 'DA074011': '25d52b36-96f7-4baf-b8c6-1749a309484a',\n 'DA112883': '25de496d-45df-4baf-bdd8-5070528cbf4e',\n 'DA074304': '25e6c023-0c7a-4326-b5aa-216ae9d9bd08',\n 'DA074036': '27359a07-db55-4f84-97c0-8848856e4b16',\n 'DA112331': '2735bade-4c23-416a-98d6-5c7311ea244f',\n 'DA126127': '273e1d02-5295-4aad-8ca1-f6051396b209',\n 'DA103646': '282449f6-d3d2-4a9d-9856-c29f90751889',\n 'DA143417': '28ad40f5-76b3-4ca2-a35d-9822eb25cb96',\n 'DA074314': '28bd6ff3-1ba3-48b4-bd92-84c6264b4f90',\n 'DA126106': '28c6751f-2d0d-45ca-a2b7-574380607d11',\n 'DA105122': '28dade0e-2283-4e88-b640-5e0c3bd9428b',\n 'DA105361': '2904bb1f-21c5-41ef-8548-75f4bab56a16',\n 'DA112629': '295865f5-65c7-4ccf-8463-f35aa9190f14',\n 'DA047250': '2970c520-bcab-42e2-93fe-c85596d9c4f5',\n 'DA134643': '29b6ce92-7902-4d63-87f2-ae4605c24c06',\n 'DA133945': '29fe08f6-6faa-4cea-8dcf-831afec7ece3',\n 'DA074316': '2a130590-6640-4ccf-a676-50c625a38a5d',\n 'DA106870': '2a720148-a931-4f40-a295-bc27af34ac30',\n 'DA134115': '2aa7b7c5-31cc-4366-b90a-131aafcdb638',\n 'DA105326': '2aaea018-0dc8-4166-ae3a-5cfbabb0c4da',\n 'DA010752': '2af10aab-68ef-4d7a-98af-855737c30dc9',\n 'DA103694': '2b906e79-63e4-4699-99f3-a342fe01e097',\n 'DA112593': '2c386f2c-d6e3-4ba5-bb5c-a8f419461765',\n 'DA012479': '2cce9edb-89ab-4228-bbf2-33af474dcc59',\n 'DA005526': '2d278ef8-6189-4275-9b11-4d58a7142ef7',\n 'DA103922': '2d305233-2d0e-4948-8da2-e907e380df6c',\n 'DA105116': '2da5414a-0f8f-4b8d-a67f-f318f68a21af',\n 'DA108166': '2dd3f74d-abaa-44e6-9d40-164d81ab253b',\n 'DA133948': '2ddb9f50-8bd0-4118-b7be-16508245b1b7',\n 'DA126116': '2f46bd97-678c-46f6-9030-6443f896ac81',\n 'DA074019': '2fb47c39-feb6-4ea2-b2f2-cab5c1a3fd5f',\n 'DA133953': '2fca231c-9909-4917-bf84-32b8237e9fe0',\n 'DA105317': '309d7cf9-4ccc-45f1-8b7c-650b579b8b73',\n 'DA105082': '30ef6217-86c6-4fce-9997-ca4a574f04a2',\n 'DA013035': '314bd9a7-5bbc-49a7-9346-45917044b1f7',\n 'DA126212': '3156a206-ef62-4911-89e3-c4bcce2ac944',\n 'DA132523': '317687b5-9d91-4d89-a731-13c18a8eb39b',\n 'DA143431': '31afd5d3-ddda-49fa-89de-b460fc32bdb3',\n 'DA108071': '31cb1d08-c863-441c-b78b-341e00aa37d8',\n 'DA016468': '331411a1-9c1a-42a3-b346-28bba7cbad2c',\n 'DA105316': '33f34b9c-c531-49c1-862f-9950fc3c0409',\n 'DA073902': '342a356f-6b79-4495-b078-0668e6d96bbb',\n 'DA074037': '34c42838-ea33-4e4d-bc50-7298de8b1cec',\n 'DA074087': '3598b4ee-1fb6-4dea-92e9-33932fc56a5f',\n 'DA126136': '35b9c02c-7c5a-4440-bfae-c84af8c4788a',\n 'DA047269': '3614198c-85ab-494e-af0f-b49c61c29c80',\n 'DA133956': '37786394-f0b5-4f66-9d15-2d2258cadc53',\n 'DA134005': '386295ea-4019-46f2-8bea-33266e7a03c0',\n 'DA106896': '38bfb5a3-d8a9-43d1-80e5-cc95e29f89ea',\n 'DA106837': '38f143af-a27d-4b3a-9b73-83885f41129b',\n 'DA007794': '3936259e-5b04-4f40-8558-b4be9edd4857',\n 'DA047226': '39e9627a-38e9-4d46-a7df-f5a946f63aeb',\n 'DA106849': '3a3375c0-971f-4791-b160-efafbb1475f1',\n 'DA006094': '3a50b5c5-5285-4f0a-a31d-1345440dc787',\n 'DA007806': '3ad811c3-d70e-4413-82cb-e79fb88b385a',\n 'DA112854': '3af50d58-320f-4057-8ae3-3387da6d3ba5',\n 'DA074083': '3b7280a8-1488-4b7a-ae29-0cc48f2f4148',\n 'DA073885': '3b7eb68a-7031-45c7-871e-f10e388274f9',\n 'DA126109': '3c3326c1-5498-46f8-bc76-6d5955e8bdbf',\n 'DA105339': '3c7d22a0-31d4-4e6d-8b91-8b2260f6846b',\n 'DA103647': '3cc49a73-0ccf-474e-b9fb-51b112ef7dd4',\n 'DA112340': '3cfff879-6a84-4ecf-a3bc-05a42da5498f',\n 'DA126164': '3d095544-d9a7-4202-87a5-73d78ab88438',\n 'DA005934': '3d6c5079-2ce3-43ec-b20d-2bbb6a0a60af',\n 'DA126152': '3e50c36a-47bf-449b-bd6e-65ec31f689f7',\n 'DA010747': '3ee573a1-1f42-4cb5-897f-64c50e8c9a98',\n 'DA134648': '3ef1e962-a89b-4764-a610-81268eac0e72',\n 'DA112888': '3f8b17df-a9f0-44cc-b5bb-45ec2b78f1a1',\n 'DA134703': '4042dd6b-4952-43ce-aa82-af1f3afbd625',\n 'DA133995': '405c8959-ad41-46ce-8750-b4fd04984d9b',\n 'DA134129': '414f1f93-0680-460e-a397-022eacc25aef',\n 'DA005881': '41867a77-201f-4611-b719-bec47ca4bb76',\n 'DA074313': '41919e01-62f1-4206-8ab5-e98c425c6ca1',\n 'DA105142': '41b90d94-d8c8-474a-95ef-e6806e15bb54',\n 'DA105132': '41d4060b-64b5-4d23-ae81-af5f8870ae98',\n 'DA134101': '422cd57f-f466-4eef-baa0-6ae8593f89f2',\n 'DA074320': '422e604e-ef0d-4e49-8d5d-b1f060115eac',\n 'DA134642': '42f40a4c-d9ff-4f64-8d78-57838e0146f2',\n 'DA105308': '4499033e-3653-44b5-8ff3-1a57ca16d900',\n 'DA005849': '44b374e1-ee46-4898-a676-7638a5ce3d12',\n 'DA108095': '44ba246e-b286-46a2-813b-2806b5b37ddb',\n 'DA106855': '44c7af26-1f51-41a5-9615-aa0f3e63fa50',\n 'DA026393': '44d33dab-6af0-4dd9-89cf-e045fe71ecb4',\n 'DA112318': '465144c6-8c56-45bf-8536-1ae8cb96b2fb',\n 'DA112880': '473d9e6a-d4c8-4c89-9780-cf89b7aed12c',\n 'DA105337': '47abc76a-7bd4-4fcc-8c82-f0bd9265d2d8',\n 'DA010770': '47cd3a74-7900-472a-9a56-75ed87129c73',\n 'DA007805': '47eff603-e0f9-4349-b420-9e8b71efd145',\n 'DA133937': '47f6328c-ab9c-4018-a970-6ffb58323d0e',\n 'DA105141': '48183c04-b691-4ea3-af25-ef8335e8b251',\n 'DA016469': '4833ad19-11f6-47d5-b0d8-0f49d76b9474',\n 'DA112328': '48947ff5-970a-4a8c-b958-8ed882ebd8e0',\n 'DA143908': '4b0fe420-e4e1-4e9e-a187-5c589d9ab228',\n 'DA112893': '4be49873-b591-4c70-8687-fb9ebcaf32e9',\n 'DA112894': '4cab88b1-3af2-4020-9241-b5aaff9ed9b0',\n 'DA103710': '4cb10408-a40f-4802-bc03-ad8b026bde91',\n 'DA007746': '4cf478f1-5afd-4928-a567-c9c56e2bf93f',\n 'DA103930': '4d014a26-506d-4ac7-b6c1-d458bae4b637',\n 'DA112901': '4d3016a8-53b7-4b7f-b67a-8d1eefa929d6',\n 'DA074039': '4daefe8c-f187-4cda-aabb-f2872a8d3af0',\n 'DA073874': '4e57257d-b47f-47ce-b59c-30efbc9e8308',\n 'DA007787': '4f0982a0-46c7-4872-831b-7470f81af9e7',\n 'DA105363': '51070ec1-de85-42bd-8189-cad4b18e8599',\n 'DA106864': '5111c951-261c-411d-b827-ead5dc35e82b',\n 'DA126134': '51564d2c-19c8-41e9-b436-8c4fea14ff0d',\n 'DA074016': '517cdfac-616f-48b9-9cac-e14ccc9df186',\n 'DA105340': '51d43453-24d1-45df-b793-ef87bd87cd85',\n 'DA106843': '51ed111a-e4ed-4787-b3c8-c5597dea360a',\n 'DA026390': '51f5f644-63d7-42ec-9591-4e07d7b8b85a',\n 'DA103677': '522927c8-e8f1-4a0d-af9d-8715c27cfa76',\n 'DA134120': '523291a6-d1bc-4912-a041-c42aac07334b',\n 'DA133951': '5311aa40-c090-497b-a115-a574cdb9b89b',\n 'DA126198': '531fbeef-66f4-4d11-a044-2567bf192993',\n 'DA112847': '532426e2-c10f-4046-a657-e5cb55820829',\n 'DA026425': '53819135-8a95-488e-b3ee-cf06472c84eb',\n 'DA105303': '54380c8f-60a0-452e-b1f5-6ff2df292f6d',\n 'DA134122': '5484e9e1-2168-4c91-9e47-6cd4dfcd37fe',\n 'DA103681': '55ed4dcc-4c58-4b0d-b6c7-b3f4ff16bf78',\n 'DA074088': '55efc380-7a6e-4750-82c3-bc4ff192f05c',\n 'DA016467': '560c8849-2a68-4c83-aee1-4fa8cccee542',\n 'DA106895': '5638167d-f093-4b21-b63c-de1c2ac96c57',\n 'DA074281': '56b3d3b3-6123-4f84-a3dd-99252b425a4c',\n 'DA133935': '56c987e4-0425-4976-bc02-307df68b4894',\n 'DA003383': '56f5be34-17dc-48e8-8d41-88bda6db7a59',\n 'DA105333': '572ca328-2ca1-4859-9b0f-dbfa438da03a',\n 'DA105084': '577513fa-3d88-4e63-920a-b270f3c7e983',\n 'DA108177': '586b05ea-d029-4ea2-871f-ef3246d88db6',\n 'DA108083': '58e818e7-fdd7-42b0-9349-b404b0050935',\n 'DA112339': '590d816d-72ba-46e7-b934-2ca3828d95d7',\n 'DA047251': '590f6bd8-eef4-4669-9140-b8ef108554b2',\n 'DA126129': '59a9194b-987f-45eb-8781-1b7d2464e9f4',\n 'DA105152': '59ed1986-5be3-40ee-9d0e-1bf0a127411f',\n 'DA106884': '5a531e00-6620-44f7-954a-979d799e0342',\n 'DA105331': '5b056e91-9a70-4cdd-84ec-3ed15fc4f8f0',\n 'DA132640': '5b3912fe-c7b5-4d35-999c-0421bf29346e',\n 'DA105375': '5b3d380c-9ca3-4697-8998-633a9e94e8d0',\n 'DA047266': '5b64c9e6-a0bb-4c9d-b4c8-746cec76628a',\n 'DA126108': '5b74382a-c330-4c03-ac17-660c2090f820',\n 'DA074273': '5b81ce11-c189-4861-a1ca-6629c4fd12c8',\n 'DA112905': '5bc2594b-02e9-4368-bc41-772b252967a3',\n 'DA108089': '5be085b5-2f0d-442a-b504-457b19ac8252',\n 'DA074283': '5bf6e844-3f4e-4c6a-b9b7-c0ce81139dc2',\n 'DA016500': '5c36a204-ad53-4094-af1a-daff8341cbaf',\n 'DA106876': '5cb7f5a8-f298-4e2a-ae6b-57017e568eda',\n 'DA074277': '5d0f3819-7397-49ac-b306-08fc6659a8d8',\n 'DA010748': '5d393b37-1404-487f-b5d1-1962e699469c',\n 'DA126130': '5d580fd1-05e5-4916-9b42-4c2b9af9ce65',\n 'DA105096': '5dcb555f-4d69-414c-ad38-f92016c07646',\n 'DA126104': '5e3f39ef-5ed4-4176-ac7a-4d9abc020d65',\n 'DA007754': '5e52026a-4d53-42fd-85ae-44a90b832df9',\n 'DA103707': '5e649351-f3f0-4d39-b5e7-9fa266633647',\n 'DA103898': '5e97cd52-7c84-41a7-9d17-2ac70bf8b53c',\n 'DA132631': '5f0af20f-1538-47ae-b79f-331b2959d6bf',\n 'DA103680': '5fd57194-577b-41c1-af1d-ec79926a1eb6',\n 'DA126110': '600ef6a9-4b6f-4ee2-a9e7-0a501ba08021',\n 'DA133954': '6038126d-4721-4e51-861f-e7fce2ce6858',\n 'DA133944': '60abe957-3fd9-47a5-869c-1e0e140d8802',\n 'DA132518': '60afc77a-6aa0-4d89-bdf0-9e34c2416080',\n 'DA074058': '60c4a375-9493-43ba-b02a-8783c01bb7a2',\n 'DA103661': '60c897f3-9783-4414-bf78-92271996d1bf',\n 'DA001869': '615a0bdd-199b-43da-878c-748daedb4889',\n 'DA105135': '62342575-9c87-4a54-9c1a-ba300ad70711',\n 'DA106838': '627eeeae-c591-49ad-9ff4-523d46384331',\n 'DA112862': '62aeeae5-1f6d-4bb7-83be-cb9720551769',\n 'DA126138': '62b9c770-58cb-4030-96a2-0bfaf25237ed',\n 'DA016479': '62d27c43-8724-452f-8859-e2cbee4ebf8d',\n 'DA126148': '62e6c509-58ce-4808-adc0-c72d67adce13',\n 'DA010718': '63385ec4-e03a-4254-b0bd-be9ab55de9c7',\n 'DA105338': '6433a6c7-43f7-460e-bc29-869b7c69e4f5',\n 'DA003376': 'e254bce4-d677-470b-a5ef-67fe7a57c08c',\n 'DA108093': '6457fa57-a6cd-43bc-9e1f-3990cf8487f9',\n 'DA105087': '647baaeb-f12e-4c54-ab7d-f21469d4c74e',\n 'DA126107': '64b406dd-429e-4c23-aba6-5bab59f8f47a',\n 'DA013059': '65e4e2c0-d2a6-40c7-b139-3e820d7ce9d8',\n 'DA105085': '664665c9-b8db-48c9-aea9-6229d52b1091',\n 'DA074025': '67507ea4-d23b-4a44-88cf-fb7eac33e00f',\n 'DA074288': '683aa33c-7d7b-4dea-a84e-f8a0e7332f85',\n 'DA016513': '68717bd1-0a68-4574-8283-e324e955dde3',\n 'DA106846': '694e4a06-f9c5-4892-a185-870306223d98',\n 'DA103665': '6a3d28f2-ff17-41c0-8007-1fef2db9a08b',\n 'DA103698': '6ab650e2-3520-4378-b15a-3d674a771b15',\n 'DA105131': '6ad877b1-500e-4777-946c-f267bc91da3e',\n 'DA016508': '6be2085f-6867-4347-b245-e5fd68e42406',\n 'DA074059': '6bf48e85-44c0-4526-ba79-878540c4fa3f',\n 'DA105347': '6c1e31c9-2a26-4775-b96a-c6e50e3bd2fa',\n 'DA013061': '6c4249cb-eeb9-4723-b9ef-245d0ecb835a',\n 'DA103940': '6cfa591f-6d10-4102-a243-1faf34b40e4d',\n 'DA074278': '6e352fdd-6610-4cea-87e5-bee389bcd878',\n 'DA126149': '6fb5e13b-b583-44c5-babd-c6a0819f5639',\n 'DA112364': '700a2a8a-4c7b-4639-b892-10f80b68d87f',\n 'DA133949': '7072396d-ca1d-4f2b-bbdc-9fddea813ce1',\n 'DA143896': '719edac1-3682-4216-8705-497763466a6f',\n 'DA074285': '71bc28ff-b8e4-49e1-9f90-94129566412a',\n 'DA126154': '725ae370-16a3-40cb-b160-d6366fc96333',\n 'DA106859': '72b91c20-aa4c-4c18-978c-bb55705bc30c',\n 'DA005847': '73597249-858f-4604-8510-6a5deb925561',\n 'DA074030': '7360a4fa-1bc1-4a9b-83f6-ff79e9b7a190',\n 'DA112356': '738a4585-9aab-47db-838a-cea17fa3364a',\n 'DA134094': '73c8f327-cbf3-4a4b-8ac5-025ae9983ebb',\n 'DA074307': '74019616-c38a-4d31-94a6-ffc3dddcf3b7',\n 'DA126153': '743561b6-a23b-4cd5-9731-ab246a13bbe7',\n 'DA126132': '74c2dd39-a8dc-4c82-b165-0fc81fd6e76d',\n 'DA105145': '74fe1d1f-3d49-4468-b8aa-12319534659f',\n 'DA143435': '754c1c9e-ffb2-42e0-b1d8-e1b041cde7bc',\n 'DA133950': '758c2200-69c9-47f8-9202-d36c243b7b1f',\n 'DA005944': '75b627cd-dc8d-4514-a93b-80fe751498b9',\n 'DA134102': '764c701b-8f33-45bb-a176-28f1cd45f5bb',\n 'DA126194': '76b4c173-337b-48e4-a5a7-63cd791f6064',\n 'DA126142': '76c675c6-2c67-4a63-a881-04a4b5f3acd8',\n 'DA112628': '774d726f-d2f4-47b7-89f3-edf3b1e16724',\n 'DA134000': '777d8cb0-a762-41fb-9c05-54cfa6cd6d16',\n 'DA134702': '77e788d7-a52b-40d2-a861-6c71571478f0',\n 'DA126156': '78cf4899-5d0d-4442-8842-de8d2c43e65f',\n 'DA134114': '793b24ac-b8d7-4535-916d-be14c37a0ed4',\n 'DA134125': '79d429d3-66bc-48bd-9e5f-9e4464e3bb27',\n 'DA005875': '79f04167-3059-4ad2-a404-a58625b6cedb',\n 'DA112859': '7a62cfe5-4afc-4d0a-9a28-3a0a9856a945',\n 'DA112337': '7aea37ab-e5d5-4b37-abf3-2e7640f87b3d',\n 'DA112332': '7b2a9e88-442f-4f68-98e4-443c73f00921',\n 'DA106893': '7b630ecb-96e2-46bf-a769-32a219725189',\n 'DA016458': '7c4b0f55-a0f8-4bc9-81ad-5297d8b655cc',\n 'DA006071': '7cb26329-8977-47db-a0c5-e8c3112a7e13',\n 'DA105153': '7dc91e32-3ea7-4f8c-b9a2-65636aedcacc',\n 'DA074045': '7e92abbe-d667-40b6-9c70-3113f6ab24a2',\n 'DA143554': '7ea35aeb-6f12-449c-882d-0f4b3976b9ce',\n 'DA073873': '7ec62028-36dc-4e5b-9abc-9defaf530ced',\n 'DA103652': '7efc108e-ae28-41b8-aae6-5c1894740ba3',\n 'DA108125': '80327b64-e99f-4cb4-80f1-ca3300aa6312',\n 'DA126151': '80ebceb8-5ba9-441b-9d31-a0418531635a',\n 'DA105314': '81017672-692d-4638-88fb-913431639ed5',\n 'DA106874': '819c4957-5516-4924-8106-6680268e7e21',\n 'DA112886': '81dd5d73-d545-473d-9810-8cc9e585490e',\n 'DA073900': '82d3d98e-f921-4bca-804a-93b42054bd2f',\n 'DA132649': '83773bad-e8d7-49b8-9236-71ac23ccc3d4',\n 'DA013044': '83bd2d25-eea6-47b4-a1ee-338e593e0d90',\n 'DA106880': '83da46d5-1414-4651-80b5-5e4e6fea5231',\n 'DA105374': '84403350-6cfc-496a-91a3-97bb6fee00bf',\n 'DA126105': '846c0ea7-9ebf-4fe6-b9d9-2ba3e7e4be27',\n 'DA132490': '84e61c5d-860b-4a5f-a22b-d39f585ddb87',\n 'DA074299': '85e02483-375e-4eca-89b6-f6a57f28cc26',\n 'DA073901': '85ec232b-a507-4dd9-9ca8-ac5e8e0f159a',\n 'DA105108': '861c554b-c64d-432b-b560-f9a9f7181dfe',\n 'DA143869': '86221c6b-cba6-4003-a659-c99e5c67cde9',\n 'DA105362': '876a40dc-0293-4e59-9c9a-1503333bc33f',\n 'DA112583': '87f8d8c1-1129-4a1a-97c5-486f32fc5868',\n 'DA106869': '8879c7b8-8606-4a7a-aa99-f5df41f3d964',\n 'DA001880': '89c87337-7cd6-486b-9098-34e69d3afc0d',\n 'DA074028': '8af030ce-6ab5-4a2e-87c5-beb09ef9eb32',\n 'DA108096': '8b65589e-7ba1-490b-be10-b2cd24221921',\n 'DA074013': '8bcd047d-ac41-4f84-86f6-ef4644ea031d',\n 'DA105136': '8ce34b94-d51a-4455-8226-4e5e03888522',\n 'DA074038': '8d3de430-9861-4fdd-a958-289a671a778d',\n 'DA126124': '8d7b7c30-5f0e-431c-9b2d-383363091b9a',\n 'DA073910': '8d9454c0-6e57-448d-8b65-08df5fced405',\n 'DA105341': '8e1400e9-6641-42c0-89bc-f8a413fd8535',\n 'DA010715': '8e7ebb91-b1b9-4c77-bf6a-a3d03aa377df',\n 'DA105329': '8f12163d-0401-4f17-83bc-05e0121b4bd8',\n 'DA103697': '8f2595c7-6d27-4c61-aacc-240e9bdee52b',\n 'DA074056': '8f7d6853-ad26-4086-8d19-6c9e1627729e',\n 'DA132626': '8fa18248-dc33-4171-b701-6212cacd4f05',\n 'DA133997': '9054a777-3f2c-4446-b663-3bdc0f9cc89d',\n 'DA012516': '908592f5-82ca-4fb4-b233-28e71178c918',\n 'DA103703': '90861e3c-ca7a-48d6-bfb0-bb6ab578384f',\n 'DA103961': '90fa1728-e1d4-4a58-b41a-02e8d1f98f06',\n 'DA126143': '910e654d-4cfe-445c-960c-17ade1c4b320',\n 'DA103896': '912f9219-86f6-458e-a4f8-97ec4cf0fc25',\n 'DA108176': '91de8861-065b-42cd-b5cd-9d23cc6c3c98',\n 'DA105104': '91e6d81e-a1bf-4043-b5d5-bca22a353eaf',\n 'DA103684': '922a8e09-a869-46d3-91f8-003ab2e9c0b7',\n 'DA106888': '924f68b2-388e-4f84-a741-6d3413059925',\n 'DA074315': '92ba1dfa-72fc-4585-815b-47e5f50a5bc1',\n 'DA074052': '9345add8-2142-4df1-a49d-4050fc82da95',\n 'DA074065': '939cf107-2659-4572-9dfb-e3a9e11108b2',\n 'DA106865': '940875a6-1bc7-476c-9195-e2b40023175e',\n 'DA106878': '9444d399-664c-4917-9f39-34e4d4ccb2e5',\n 'DA105097': '94cc04cd-0ec6-4540-b006-5800341a300b',\n 'DA112872': '95cb451e-e94d-4f13-9bd9-e5cb00a0c154',\n 'DA074070': '9708a3ea-71ee-4972-9b95-ed54f6ee593f',\n 'DA005535': '97aee0a1-a9c3-4745-a4d4-7f9a6fd11372',\n 'DA105369': '98bd48dd-bafa-4749-862f-fc3f26d0e0f1',\n 'DA074289': '99894fa7-26a6-4c04-ba57-c46e89a16383',\n 'DA007789': '99b6045d-0b0c-4c7d-b77a-d2601f17e88d',\n 'DA108109': '9a9e4055-4257-422f-9c5d-11950203995c',\n 'DA074328': '9a9f7f78-1548-479b-8be8-6b2c71d8e714',\n 'DA012445': '9ae01a59-5dbc-4370-89bd-cd91721bed58',\n 'DA003381': '9b0317c3-e53b-4cbc-8ddd-68581d29f778',\n 'DA074297': '9bafe9b9-e89e-4b06-9151-8cb51182aca4',\n 'DA105376': '9bf21882-e4e0-4eda-b5d3-dbfe2fd79c27',\n 'DA105101': '9ca540aa-851d-49d1-b286-7fd5c77ba4a8',\n 'DA134126': '9cf56095-bd9d-4153-8e6c-c99a5ff8804b',\n 'DA074054': '9d558179-6c3a-456f-9a7f-83ad3022c096',\n 'DA126098': '9d95b2f1-9d0b-4b6a-bde1-91e85bbd7712',\n 'DA010760': '9dc94651-282c-4484-820a-764267abae11',\n 'DA026420': '9de75f7e-5dad-4a99-92b0-f33dcef3700c',\n 'DA003339': '9ee587a3-0d0d-4ced-8794-f022e7e623a7',\n 'DA012472': '9f2d3ed5-2273-489c-a8c4-f6eae1282b33',\n 'DA012495': '9f6c0b96-a3b7-438a-85bd-b5cbe6573272',\n 'DA026361': '9fa4fc11-a293-4485-8859-5c24a1983e8d',\n 'DA133932': '9fbe5203-f157-44c0-be78-7e4c154a34d0',\n 'DA025014': 'e657e0c5-2b94-417e-8df4-99bad886ae51',\n 'DA007739': 'a100686e-99b6-4f30-9f76-996aa9b2d7d9',\n 'DA074287': 'a110aa16-83dc-4448-99ac-69db974ea9ea',\n 'DA105330': 'a11165ab-2158-42b1-8e06-9927b5481078',\n 'DA106871': 'a1f45f2f-20b9-4580-a171-e4975998ddad',\n 'DA073870': 'a22a0ccb-517e-4795-86a6-0f0c25623fdd',\n 'DA074034': 'a26d4616-e0d8-4527-8c49-1b9c13710773',\n 'DA112326': 'a324844a-994f-43ed-8e08-36514f8b5e44',\n 'DA074066': 'a356340a-a379-41bb-874f-0c3fd69417f5',\n 'DA105366': 'a3ea7f12-20fd-44ac-af96-dc94483c4a04',\n 'DA103891': 'a4387b9b-6f92-4890-b14e-d8c92571d24e',\n '0': 'ec263a27-1a4d-4a73-a983-724ca40a1d7a',\n 'DA103711': 'a52d1878-7ef5-489b-8ddc-6ea4f8a7e63a',\n 'DA074043': 'a5810996-3035-492f-817e-40b08b149bed',\n 'DA112853': 'a5ef236c-7507-41ab-9746-1c52f8d2d2f9',\n 'DA112581': 'a6e598d8-5b07-47e1-8b3c-6f45a802e6f7',\n 'DA112315': 'a6fbc4bd-ba9e-4f69-bee1-ba9aa8307fa6',\n 'DA126121': 'a722deb1-1ba7-4394-bb28-6311501d6270',\n 'DA074260': 'a7278dd4-bc37-40b3-9dbf-0684a296a0c6',\n 'DA112889': 'a77a1f31-ff71-4652-8f59-482122a91398',\n 'DA010771': 'a9139113-5e85-4196-8e23-9eca42a93eb6',\n 'DA126096': 'a981afa8-929a-4873-abc0-ef779f6043f4',\n 'DA074042': 'a9ad2255-f252-4b4c-8115-af681aaf8d00',\n 'DA074300': 'a9bc5b5c-1964-4404-bdcd-d06ca54170ce',\n 'DA103689': 'a9cce5d7-fb05-4000-b8e4-dcc4f76885cc',\n 'DA112311': 'a9ea3884-219e-424c-ac31-e8e2c2164445',\n 'DA016515': 'aa618a30-b258-43eb-a1b5-5a7fe9a13900',\n 'DA074082': 'ab60e40c-f2dc-4363-9193-03677eb06f26',\n 'DA134111': 'ab80e595-67ab-4c78-881f-f1fc4fa9fea4',\n 'DA126113': 'ad14e77c-6004-40f5-92c1-3bdfac143b09',\n 'DA105095': 'ad15dcc6-c07b-41c2-8554-b6a67a1a562f',\n 'DA103722': 'ad1b5c87-80c3-4ba5-9615-b725d3f2eecd',\n 'DA126112': 'adc0a60e-26dc-445f-a197-164f1c531032',\n 'DA112579': 'adc7081e-5b75-453e-956a-9ea18b206bf2',\n 'DA103948': 'ae9a2dbe-ce29-4923-9c8e-ecb029cae897',\n 'DA005818': 'af1ea1fe-36bb-434a-bf25-44595a958067',\n 'DA103951': 'af84b85e-b215-4475-b5cb-48d329e7d3ea',\n 'DA001872': 'b01265d4-f357-40fc-8a82-286be71b7444',\n 'DA106844': 'b02ca885-b46d-4a2e-b9d9-10c456a8c2dd',\n 'DA105098': 'b05ed615-3c54-47b8-af0b-a3cb2ba00201',\n '000000000': 'd1e454c6-862c-40ba-94bb-f87f09b7813f',\n 'DA105106': 'b2e8cad1-ce4b-49b1-8928-005e5647b629',\n 'DA007775': 'b2f87185-a74f-45c2-93ca-2fcf1f83ffcc',\n 'DA126147': 'b3064d67-d914-484d-8ea3-e8c5dc33ce7d',\n 'DA007758': 'b3a4d67a-e297-43a0-ad80-664434c0e88c',\n 'DA106856': 'b42c9228-70be-43a7-9685-e238267a091d',\n 'DA103949': 'b46a500f-9533-4366-9530-5834a349cb29',\n 'DA016503': 'b4a54c3e-3a81-4206-b714-e8c5a0bfad61',\n 'DA103928': 'b4b52eac-1423-4e84-9396-686799030655',\n 'DA112601': 'b5110c18-3540-4967-8a68-d4840fb8e39b',\n 'DA103659': 'b5cf38e6-8b40-4976-b72c-4eac7bb2815a',\n 'DA133993': 'b7a2adf2-b459-481d-b4bd-2b9496abd21d',\n 'DA126114': 'b7aef637-34e0-4c7b-a3bb-98a672c0ede0',\n 'DA074091': 'b8774b70-c854-4a42-9ea1-4b0d265aacb3',\n 'DA105300': 'b8e02981-f874-449f-812e-1ed7e351e7c5',\n 'DA103719': 'b91f1e0b-30a0-4141-b596-a3c48a2a3a46',\n 'DA006052': 'b9fd8e4b-e09b-4f44-b640-3f95ee46a00f',\n 'DA112890': 'ba15106d-7a2e-4b95-ad79-24ed1e339712',\n 'DA133938': 'ba3c7d73-3084-4209-a3b2-e9040e56140d',\n 'DA105117': 'ba5c6c95-a3ac-4f42-8305-dae2f8393ed2',\n 'DA105307': 'baa3e85a-8d28-4de0-b6a5-9cb6c75f6a0a',\n 'DA103942': 'bb38ace6-b8e3-4881-b842-427ef3e8b044',\n 'DA105137': 'bb50deba-7e2c-4896-97e0-b727d4a77960',\n 'DA105128': 'bd49bd38-70cf-4db7-9bf2-099df3ef55bc',\n 'DA134123': 'bd916c98-052f-46d2-bd92-7bbc797b4e81',\n 'DA074090': 'bddd35b1-ee27-4508-bc0b-1ec21c6d7c82',\n 'DA105325': 'be008254-cb95-4dba-8910-975d0a00b91c',\n 'DA134118': 'be8be9d5-d945-44d1-877d-bae8fad74c4f',\n 'DA103708': 'be9b7994-4d6e-41a6-92b8-1f53a7a0ef9c',\n 'DA073911': 'bf265606-c23a-45c1-b42b-eee900b28f37',\n 'DA105127': 'bf2d1221-a335-48e9-8381-b15486bbcad8',\n 'DA134116': 'bf509c34-dce0-4d1d-81ba-97f12b38ef10',\n 'DA105354': 'bfb0baa3-dda4-4a0b-a31d-6f62677c00b5',\n 'DA013042': 'bfc9e6c2-e63e-411b-b44e-b198c8fa51cd',\n 'DA126103': 'c036ccb3-cfa2-47ef-b2c4-43d97acdbbd9',\n 'DA133940': 'c045d949-1495-47d1-a616-9d4aa7a01ace',\n 'DA106885': 'c20941cb-5718-4a87-91a7-dc39783c8664',\n 'DA112848': 'c24f3aac-4f4c-4742-a99f-6e59ca818caf',\n 'DA134002': 'c2c3de39-25bc-4d72-bfbf-0e32029ac49e',\n 'DA112881': 'c2f33694-2764-458f-8d2b-0ec1f2c68920',\n 'DA105126': 'c2f73382-8878-4880-8d0c-d576cbb0e6b8',\n 'DA134645': 'c380f6da-5bc7-4d9e-940c-8f38533949d7',\n 'DA134639': 'c42ebb37-3a52-4a0a-aa23-61eaed2da1ad',\n 'DA003361': 'c44721df-dfd5-4a83-b608-df8770da52f5',\n 'DA112860': 'c4fa83ac-be93-45bc-a959-c9ee091201bc',\n 'DA112899': 'c540c8e0-cdf6-41dc-b3e8-87edf5c2244c',\n 'DA112843': 'c54cf319-d102-4225-a51b-7abd909ce63d',\n 'DA103941': 'c687b8bf-8ae1-490b-beff-8aa592c81c41',\n 'DA105147': 'c6f74445-9ce0-4551-9abf-c1e9e32d72e4',\n 'DA103712': 'c712326d-48cf-45c4-a1b9-66e36d23dd7e',\n 'DA074048': 'c71e23e1-28b7-45c0-a755-39238f5b21e4',\n 'DA105353': 'c76bed12-3245-4941-b52b-07d6f1a59912',\n 'DA112868': 'c806a4da-877b-41b1-a7ea-c1e08a930b87',\n 'DA134130': 'c871cf38-367f-4979-8a69-bbcdf567ec3f',\n 'DA074263': 'c8a56b19-1afc-4418-b79f-618224a0e2b0',\n 'DA103664': 'c956f7ef-14b5-4484-854e-5c473b8b1c22',\n 'DA132503': 'c979fa4f-1cfc-41c2-8c23-19e71bd865c1',\n 'DA005848': 'c9cfe9f5-69d4-42c7-9ccb-4ab12a37861c',\n 'DA013057': 'ca00846f-6fec-4fdf-8c0e-2b92c7021ff6',\n 'DA112885': 'ca17b8a4-d89a-41cd-959b-f9b3d888da0e',\n 'DA074041': 'caa0b71a-b18a-4584-b1fc-874511083403',\n 'DA133942': 'cae5a374-edbe-497b-abc3-20a2da23dc7e',\n 'DA112336': 'cb15c087-2e13-4e57-80a2-c9ea0193b29b',\n 'DA108077': 'cb2f80a8-6079-4bca-8221-5d1644f77d4f',\n 'DA016521': 'cc43cdc1-284f-4328-ae16-0516337038bb',\n 'DA143878': 'cce9f7df-89d4-47ba-a6a2-f611f036cdb9',\n 'DA105309': 'cde9c1ee-67a8-4eaf-bf52-ca97aa034f93',\n 'DA016477': 'ce27f5e0-4d1f-4b85-aeaa-23140fcf4300',\n 'DA112354': 'ce5309c6-4e9e-4448-b9f3-72ce9a0e2c66',\n 'DA105328': 'ce6b4d86-7c95-49b0-8e9c-95b9ef62fbf6',\n 'DA126126': 'cfd23872-2376-4038-8abf-801df9f85a53',\n 'DA013033': 'cfdf037e-7f22-42f9-a00c-229ef81fc4d3',\n 'DA112313': 'cfe4a020-cef9-40f6-8d9b-71a58a539e85',\n 'DA105115': 'd0608b88-f774-4fed-b1fd-6aa6097a63eb',\n 'DA074096': 'd1954bc4-e1a9-449b-9b2d-5bbc089e3342',\n 'DA106845': 'd1a1c55c-02d8-48ad-8803-771b29123249',\n 'DA103890': 'd275e24d-ca3b-4538-ace5-18ad81d9ac9e',\n 'DA074331': 'd2975266-f2ff-41e0-9785-36184d194e75',\n 'DA003639': 'd9966670-db64-4170-8443-9ee91f4f2901',\n 'DA103653': 'd32842f8-2eb3-4bae-bc51-b03ef1d8e792',\n 'DA112863': 'd35e291a-af0a-4880-9d9c-5a571ca913f1',\n 'DA134110': 'd37e5330-83eb-4e5c-a664-af9aebd942cf',\n 'DA105120': 'd3f9a5b8-6c43-4101-a6cf-95720164f4e7',\n 'DA132517': 'd4039f3c-0de2-4a0b-81c9-86ce95ebb908',\n 'DA133947': 'd44e8111-f461-45ad-96a5-a21d2319b03b',\n 'DA133930': 'd4b82c10-32bc-4458-8d21-ebc514f9fbe8',\n 'DA106866': 'd4cc0521-76a6-473d-a083-8481c5536e6d',\n 'DA133955': 'd4d94cbb-60dc-4e48-bd6a-23e8e8992a1e',\n 'DA105099': 'd582917a-3b64-4d6d-8254-027af9713e16',\n 'DA112586': 'd5d44db6-8094-41ce-ae4a-73f27f2013e3',\n 'DA074086': 'd61ddaa7-3b1b-4d8c-bfbd-d4879374f3eb',\n 'DA074329': 'd72bae41-bf4a-411b-9f53-ce803bf8fe76',\n 'DA126155': 'd797836b-0825-4909-9473-b222f417d423',\n 'DA126111': 'd83ef431-5eb4-41a0-813d-a4d644eeb5bd',\n 'DA074024': 'd882967a-c6ea-44e5-ae21-c3da6e8356f7',\n 'DA134112': 'd89bb3c9-60ff-4d68-a2d2-a3805880b5db',\n 'DA133943': 'd8bdd232-0076-449c-b6ba-2e1872281784',\n 'DA103947': 'd8fdfe1c-09a4-4aba-8439-173ccf7d2d83',\n 'DA007747': 'd995f4a5-99e0-4ac3-b849-85f1ee1cf780',\n 'DA112884': 'd9a6bd33-6ab3-4384-8353-bef1d5d632e2',\n 'DA006069': 'da4eb4af-442b-41bb-90ae-48e57cb1a207',\n 'DA143885': 'da6a590f-1d63-4772-99a7-096bb86a73f1',\n 'DA143898': 'da8c54d7-9dba-47d6-981f-e33192840d2c',\n 'DA103676': 'da95ad87-4744-4069-bbe0-1c7d32fbfac5',\n 'DA126139': 'db59a52f-ebe2-45a2-9f50-b4f84ff5a1ee',\n 'DA106894': 'dc1b9f9b-6882-4c3b-b7ca-e643dfb5299f',\n 'DA106890': 'dcec10c7-8359-4cb2-963e-dcff60a8e6b7',\n 'DA103644': 'dd13bdd2-c02f-440a-a7bc-172c925d8dfd',\n 'DA112334': 'dd3b7e8f-46a5-4626-93e3-55c0370354b7',\n 'DA047264': 'ddb39192-e7a9-4ec3-ba92-85e75848020f',\n 'DA103683': 'e19b2ba8-46e0-4d27-a0d1-eca0ac8c057c',\n 'DA074031': 'e1b6ebeb-404b-44f0-b20d-8dcef64d1c76',\n 'DA126131': 'e263986d-ff57-4d90-8ddb-ff310d351449',\n 'DA112874': 'e284330a-b75e-4f86-a623-ad8229d3b982',\n 'DA005540': 'e28d5b2f-5a0a-49a3-abf9-0a03e4b9a4c9',\n 'DA133933': 'e2ccc124-6991-4333-b769-e15bb19e66e3',\n 'DA073878': 'e3001610-3da5-446f-ae57-e0ff8a8795f6',\n 'DA047273': 'e3375d55-e634-41f9-9d05-532acbc3b30c',\n 'DA133934': 'e35a9886-0f23-46d8-bc4c-c7c5cec63254',\n 'DA143931': 'e3e8f2c1-af5e-4a3a-8043-db0f99e473dc',\n 'DA074274': 'e44e5c46-85b7-4043-a263-77016b01f9e2',\n 'DA103957': 'e482ac1e-c011-4c96-ab90-7d8779034083',\n 'DA105119': 'e4f050dc-f025-46ba-a19a-ff88ce14acaa',\n 'DA105129': 'e4f435ee-6c7e-4f3b-97e9-c9e15c672513',\n 'DA105313': 'e50486db-5465-4446-8307-b3aa39ac4eca',\n 'DA126137': 'e537a0a3-cd0f-4f36-b8fa-d78bd169cc30',\n 'DA143923': 'e5a17dfa-d4c9-49e2-accc-f7d1e2a58809',\n 'DA010750': 'e5a76fd2-33d3-4ef2-8680-62706df8de16',\n 'DA105352': 'e6397a55-003f-4941-b331-dc8a26af1e53',\n 'DA126158': 'e9051836-3431-4511-9798-c5b76b5389d2',\n 'DA074269': 'e9277f58-5b9a-4af5-9b19-faeefc57831b',\n 'DA133941': 'e95bcc96-1fa7-4612-be1a-4998c861a70b',\n 'DA105133': 'e9bf207f-2d3a-43f6-9f9f-02485b92a48d',\n 'DA133994': 'ea23c109-83a0-4a26-a782-c611cf6e336d',\n 'DA134660': 'ea3081cc-1cbf-44f5-a87f-a3c21b67a05e',\n 'DA134127': 'ea6e1d4f-b40b-493e-82a1-f21c962d5e05',\n 'DA103702': 'eabe9443-69c0-468f-a3a8-b09ba9d46228',\n 'DA103666': 'eae4d205-51f6-4a24-9ef2-4090d631fcfc',\n 'DA112904': 'ec14f100-945b-4ddd-a52e-c7a59998931b',\n 'DA133952': 'ec585dc4-fcfd-466b-9412-7f2974cdd2c5',\n 'DA074257': 'ecab7eb8-2b05-43cc-9c15-d3c2e6946474',\n 'DA106881': 'ecd75336-c1a4-4ca1-b1de-612fe3114144',\n 'DA132519': 'ecff9b8a-dc77-44d7-9cdc-756726f5bbeb',\n 'DA103701': 'ed377d92-837c-4467-9160-fda1e56efffc',\n 'DA089806': 'ed452881-278d-45d2-8a53-c269a77a0013',\n 'DA074306': 'ee650a15-f68f-48b1-baa1-f873ae51ee65',\n 'DA112351': 'ee818de1-e6fe-48d5-b8ca-29ffef9ddad4',\n 'DA003635': 'eedf30cd-5144-49c8-9aba-2ff2ba910438',\n 'DA010732': 'ee9d8c92-8a72-4310-9e6d-0bd3f2fc4745',\n 'DA026387': 'eece0cc9-dff2-40a7-9c78-8db0ae8df12e',\n 'DA108063': 'eef74d03-e679-494d-95d1-243c6775954e',\n 'DA105334': 'ef15779e-c0e0-4fcd-9d63-810141d825b1',\n 'DA134640': 'ef244b42-c2fd-4947-a614-7c3fb839c232',\n 'DA026407': 'ef42b6a0-343d-4bee-9e0b-13a118a0e451',\n 'DA074292': 'efc2e0a0-099a-4eab-9e9c-5069e55e81bd',\n 'DA126135': 'f01c55ab-061b-4366-9c60-7ee792f6d75c',\n 'DA112844': 'f051c84c-27c2-44a2-9c35-f5475fb4c821',\n 'DA143890': 'f07a8999-8cb6-4834-baf7-6ce725aadea6',\n 'DA132615': 'f164391b-13f7-4a3d-92ac-b3a1afa0d7a4',\n 'DA134003': 'f1644704-6af2-46fc-acb5-69975a7560f8',\n 'DA006100': 'f18c4fca-2d63-4bf4-b62e-5ce5dad83561',\n 'DA016511': 'f1ec61e1-9046-4b15-b068-aa52a58709c3',\n 'DA074298': 'f283efcb-23a2-481b-a32f-f9798235bb0b',\n 'DA105348': 'f2aa80cd-78a8-41cd-a2ed-a7a7b80f0c78',\n 'DA134104': 'f3135e08-4fda-4e9d-880b-b73aff6b7b37',\n 'DA106892': 'f37b02bc-9074-49bc-9d57-1d6a7a589ad5',\n 'DA126210': 'f396f0f3-3a33-4d3b-9d37-c5d486634c41',\n 'DA103706': 'f3ccb178-a31f-41fc-8093-8301755d61e4',\n 'DA103667': 'f4527c8e-972d-4a51-8362-91ea0e30efbf',\n 'DA074084': 'f4a24616-966f-469c-90c6-44ac3268b9cf',\n 'DA108075': 'f4ab88a5-65c1-4cc0-a019-db432a2d3054',\n 'DA016524': 'f51db047-01ad-4a72-b23a-3c9ca0b7f8c9',\n 'DA012506': 'f5bcec2b-8180-4a5c-baa4-bab39c203f89',\n 'DA134131': 'f7481d7f-eb40-4055-9d47-d7701f8a05bd',\n 'DA126133': 'f7546308-e817-4cef-a259-bcc087465a6a',\n 'DA073863': 'f7af9a44-e9d4-43d4-9d58-22b3db7622eb',\n 'DA133946': 'f7d7a3e8-0f66-4b39-83bf-31ddd8a5d396',\n 'DA013048': 'f8ac0787-5bf6-48ef-90d8-dae6213a33e8',\n 'DA133999': 'f8dcbe58-5f7f-4176-ba2a-2607b622ce7d',\n 'DA003346': 'f9875fb8-ae28-48a4-8c37-c0e21dae5653',\n 'DA126166': 'f9b3f2a9-a759-4ef8-91da-2a86f2975247',\n 'DA074303': 'fa56c0bd-daa7-45d0-9df9-f000ea58bbc7',\n 'DA106860': 'fa7a2103-8e0c-4e69-ba4f-1b8f3fcb7bf1',\n 'DA112314': 'fa80fe9c-4fa7-46b3-a531-95f26d97d749',\n 'DA103919': 'fadffbb4-ec1f-4aca-8d49-9492c4e77ac5',\n 'DA074280': 'fb0b2e73-3ae4-4bcb-a1ef-e19f88705a7f',\n 'DA074051': 'fb10e984-b7f1-426b-8a88-e4b7e0602811',\n 'DA105083': 'fbaa1e4e-de3c-47bd-b06e-0f1c8689bf92',\n 'DA016520': 'fc154b92-d50e-46de-8745-b5ca6820e824',\n 'DA132628': 'fc843f64-afa4-42bf-8ac9-6238cf3e455a',\n 'DA126090': 'fd6db0b0-2cae-4a83-9ad0-9f4a590d3375',\n 'DA012482': 'fd76cad3-940b-43d8-a48a-cddfab87c445',\n 'DA103929': 'fe13916b-784a-4e07-ad3c-869116502119',\n 'DA105356': 'fe968017-2b78-481b-93be-0ec33dfd9d8e',\n 'DA134644': 'fe9d2df2-c949-4dc1-91c1-c329b702eaa1',\n 'DA105345': 'ff72a058-e581-4910-8e3e-f1392a2041f4',\n 'DA112343': 'ff77228e-d932-421f-880e-bfb3fd226ebf',\n 'DA074317': 'ff81c55a-5693-41d3-a570-94778fa174b8',\n 'DA134103': 'ff8baa41-b687-47ef-93d3-eae4f0a49900',\n 'DA010749': 'fff2a1e9-144f-45eb-b1f5-4f2a0132cfba'}"
     },
     "execution_count": 29,
     "metadata": {},
     "output_type": "execute_result"
    }
   ],
   "source": [
    "fc_2_terra_uuid"
   ],
   "metadata": {
    "collapsed": false,
    "pycharm": {
     "name": "#%%\n"
    }
   }
  },
  {
   "cell_type": "code",
   "execution_count": 30,
   "outputs": [],
   "source": [
    "def fill_in_new_column(ns: str, ws: str,\n",
    "                       etype: str, ename: str,\n",
    "                       attribute_name: str, attribute_value,\n",
    "                       dry_run: bool = False) -> None:\n",
    "\n",
    "    response = fapi.get_entity(ns, ws, etype, ename)\n",
    "    if not response.ok:\n",
    "        raise FireCloudServerError(response.status_code, response.text)\n",
    "\n",
    "    cov = {\"op\":                 \"AddUpdateAttribute\",\n",
    "           \"attributeName\":      attribute_name,\n",
    "           \"addUpdateAttribute\": attribute_value}\n",
    "    operations = [cov]\n",
    "    if dry_run:\n",
    "        print(operations)\n",
    "        return\n",
    "\n",
    "    response = fapi.update_entity(ns, ws,\n",
    "                                  etype=etype,\n",
    "                                  ename=ename,\n",
    "                                  updates=operations)\n",
    "    if not response.ok:\n",
    "        raise FireCloudServerError(response.status_code, response.text)"
   ],
   "metadata": {
    "collapsed": false,
    "pycharm": {
     "name": "#%%\n"
    }
   }
  },
  {
   "cell_type": "code",
   "execution_count": 31,
   "outputs": [
    {
     "data": {
      "text/plain": "0    None\n1    None\n2    None\nName: flowcell_id, dtype: object"
     },
     "execution_count": 31,
     "metadata": {},
     "output_type": "execute_result"
    }
   ],
   "source": [
    "do_it = True\n",
    "fp_vcf_gs_paths['flowcell_id'].apply(lambda fcid: fill_in_new_column(primary_namespace, primary_workspace,\n",
    "                                                                     etype='sample',\n",
    "                                                                     ename=fc_2_terra_uuid.get(fcid),\n",
    "                                                                     attribute_name='fingerprint_vcf',\n",
    "                                                                     attribute_value=fc_2_vcf.get(fcid),\n",
    "                                                                     dry_run=(not do_it)) if fc_2_vcf.get(fcid) is not None else print(fcid))"
   ],
   "metadata": {
    "collapsed": false,
    "pycharm": {
     "name": "#%%\n"
    }
   }
  },
  {
   "cell_type": "code",
   "execution_count": 32,
   "outputs": [
    {
     "data": {
      "text/plain": "0    None\n1    None\n2    None\nName: flowcell_id, dtype: object"
     },
     "execution_count": 32,
     "metadata": {},
     "output_type": "execute_result"
    }
   ],
   "source": [
    "do_it = True\n",
    "fp_vcf_gs_paths['flowcell_id'].apply(lambda fcid: fill_in_new_column(primary_namespace, primary_workspace,\n",
    "                                                                     etype='sample',\n",
    "                                                                     ename=fc_2_terra_uuid.get(fcid),\n",
    "                                                                     attribute_name='fingerprint_vcf_tbi',\n",
    "                                                                     attribute_value=fc_2_tbi.get(fcid),\n",
    "                                                                     dry_run=(not do_it)) if fc_2_tbi.get(fcid) is not None else print(fcid))"
   ],
   "metadata": {
    "collapsed": false,
    "pycharm": {
     "name": "#%%\n"
    }
   }
  },
  {
   "cell_type": "markdown",
   "source": [
    "# play"
   ],
   "metadata": {
    "collapsed": false,
    "pycharm": {
     "name": "#%% md\n"
    }
   }
  },
  {
   "cell_type": "code",
   "execution_count": 14,
   "outputs": [],
   "source": [
    "class GcsPath:\n",
    "    \"\"\"\n",
    "    given a gs-path string, return a dict: {'bucket': bucket, 'prefix': prefix, 'file': file}\n",
    "    \"\"\"\n",
    "\n",
    "    def __init__(self, gs_path: str):\n",
    "\n",
    "        if not gs_path.startswith(\"gs://\"):\n",
    "            raise ValueError(f\"Provided gs path isn't valid: {gs_path}\")\n",
    "\n",
    "        arr = re.sub(\"^gs://\", '', gs_path).split('/')\n",
    "        self.bucket = arr[0]\n",
    "        self.prefix = '/'.join(arr[1:-1])\n",
    "        self.file = arr[-1]\n",
    "\n",
    "    def exists(self, client: storage.client.Client) -> bool:\n",
    "        return self.is_file(client=client) or self.is_emulate_dir(client=client)\n",
    "\n",
    "    def is_file(self, client: storage.client.Client) -> bool:\n",
    "        return storage.Blob(bucket=client.bucket(self.bucket), name=f'{self.prefix}/{self.file}').exists(client)\n",
    "\n",
    "    def is_emulate_dir(self, client: storage.client.Client) -> bool:\n",
    "        if self.is_file(client=client):\n",
    "            return False\n",
    "        return any(True for _ in client.list_blobs(client.bucket(self.bucket), prefix=f'{self.prefix}/{self.file}'))"
   ],
   "metadata": {
    "collapsed": false,
    "pycharm": {
     "name": "#%%\n"
    }
   }
  },
  {
   "cell_type": "code",
   "execution_count": 15,
   "outputs": [],
   "source": [
    "columns_to_check = ['ccs_bam', 'ccs_pbi', 'ccs_report',\n",
    "                    'fq', 'gcs_input_dir',\n",
    "                    'input_bam', 'input_pbi',\n",
    "                    'subreads_bam', 'subreads_pbi']"
   ],
   "metadata": {
    "collapsed": false,
    "pycharm": {
     "name": "#%%\n"
    }
   }
  },
  {
   "cell_type": "code",
   "execution_count": 17,
   "outputs": [
    {
     "name": "stdout",
     "output_type": "stream",
     "text": [
      "=========================================\n",
      "input_bam\n",
      "                                  sample bio_sample well_sample  \\\n",
      "38  0ec460ef-b86b-42c7-8e71-b820c7557fab    1-00151    SM-K6JDW   \n",
      "\n",
      "                                            input_bam  \n",
      "38  gs://broad-gp-pacbio/r64020e_20211114_004036/1...  \n",
      "=========================================\n",
      "input_pbi\n",
      "                                  sample bio_sample well_sample  \\\n",
      "38  0ec460ef-b86b-42c7-8e71-b820c7557fab    1-00151    SM-K6JDW   \n",
      "\n",
      "                                            input_pbi  \n",
      "38  gs://broad-gp-pacbio/r64020e_20211114_004036/1...  \n",
      "=========================================\n",
      "subreads_bam\n",
      "                                  sample bio_sample well_sample  \\\n",
      "38  0ec460ef-b86b-42c7-8e71-b820c7557fab    1-00151    SM-K6JDW   \n",
      "\n",
      "                                         subreads_bam  \n",
      "38  gs://broad-gp-pacbio/r64020e_20211114_004036/1...  \n",
      "=========================================\n",
      "subreads_pbi\n",
      "                                  sample bio_sample well_sample  \\\n",
      "38  0ec460ef-b86b-42c7-8e71-b820c7557fab    1-00151    SM-K6JDW   \n",
      "\n",
      "                                         subreads_pbi  \n",
      "38  gs://broad-gp-pacbio/r64020e_20211114_004036/1...  \n"
     ]
    }
   ],
   "source": [
    "for col in columns_to_check:\n",
    "    id_x = gmkf_flowcells[col].apply(lambda gs: True if gs is None or gs=='None' or gs=='nan' else GcsPath(gs).exists(storage_client))\n",
    "    if not id_x.all():\n",
    "        print(f\"=========================================\\n{col}\")\n",
    "        print(gmkf_flowcells.loc[~id_x][['sample', 'bio_sample', 'well_sample', col]])"
   ],
   "metadata": {
    "collapsed": false,
    "pycharm": {
     "name": "#%%\n"
    }
   }
  },
  {
   "cell_type": "code",
   "execution_count": 19,
   "outputs": [
    {
     "data": {
      "text/plain": "                                  sample aligned_bai aligned_bam  \\\n38  0ec460ef-b86b-42c7-8e71-b820c7557fab         nan         nan   \n\n   aligned_est_fold_cov aligned_frac_bases aligned_num_bases  \\\n38                  nan                nan               nan   \n\n   aligned_num_reads aligned_pbi aligned_read_length_N50  \\\n38               nan         nan                     nan   \n\n   aligned_read_length_mean  ... read_qual_mean read_qual_median  \\\n38                      nan  ...            nan              nan   \n\n   subread_read_length_N50 subread_read_length_mean  \\\n38                     nan                      nan   \n\n                                         subreads_bam  \\\n38  gs://broad-gp-pacbio/r64020e_20211114_004036/1...   \n\n                                         subreads_pbi  total_length well_name  \\\n38  gs://broad-gp-pacbio/r64020e_20211114_004036/1...  496777375438       A01   \n\n   well_sample                         workspace  \n38    SM-K6JDW  Gabriel_GMKFLRP_Gelb_PacBio_FY20  \n\n[1 rows x 70 columns]",
      "text/html": "<div>\n<style scoped>\n    .dataframe tbody tr th:only-of-type {\n        vertical-align: middle;\n    }\n\n    .dataframe tbody tr th {\n        vertical-align: top;\n    }\n\n    .dataframe thead th {\n        text-align: right;\n    }\n</style>\n<table border=\"1\" class=\"dataframe\">\n  <thead>\n    <tr style=\"text-align: right;\">\n      <th></th>\n      <th>sample</th>\n      <th>aligned_bai</th>\n      <th>aligned_bam</th>\n      <th>aligned_est_fold_cov</th>\n      <th>aligned_frac_bases</th>\n      <th>aligned_num_bases</th>\n      <th>aligned_num_reads</th>\n      <th>aligned_pbi</th>\n      <th>aligned_read_length_N50</th>\n      <th>aligned_read_length_mean</th>\n      <th>...</th>\n      <th>read_qual_mean</th>\n      <th>read_qual_median</th>\n      <th>subread_read_length_N50</th>\n      <th>subread_read_length_mean</th>\n      <th>subreads_bam</th>\n      <th>subreads_pbi</th>\n      <th>total_length</th>\n      <th>well_name</th>\n      <th>well_sample</th>\n      <th>workspace</th>\n    </tr>\n  </thead>\n  <tbody>\n    <tr>\n      <th>38</th>\n      <td>0ec460ef-b86b-42c7-8e71-b820c7557fab</td>\n      <td>nan</td>\n      <td>nan</td>\n      <td>nan</td>\n      <td>nan</td>\n      <td>nan</td>\n      <td>nan</td>\n      <td>nan</td>\n      <td>nan</td>\n      <td>nan</td>\n      <td>...</td>\n      <td>nan</td>\n      <td>nan</td>\n      <td>nan</td>\n      <td>nan</td>\n      <td>gs://broad-gp-pacbio/r64020e_20211114_004036/1...</td>\n      <td>gs://broad-gp-pacbio/r64020e_20211114_004036/1...</td>\n      <td>496777375438</td>\n      <td>A01</td>\n      <td>SM-K6JDW</td>\n      <td>Gabriel_GMKFLRP_Gelb_PacBio_FY20</td>\n    </tr>\n  </tbody>\n</table>\n<p>1 rows × 70 columns</p>\n</div>"
     },
     "execution_count": 19,
     "metadata": {},
     "output_type": "execute_result"
    }
   ],
   "source": [
    "gmkf_flowcells[gmkf_flowcells['sample'] == '0ec460ef-b86b-42c7-8e71-b820c7557fab']"
   ],
   "metadata": {
    "collapsed": false,
    "pycharm": {
     "name": "#%%\n"
    }
   }
  },
  {
   "cell_type": "code",
   "execution_count": null,
   "outputs": [],
   "source": [],
   "metadata": {
    "collapsed": false,
    "pycharm": {
     "name": "#%%\n"
    }
   }
  }
 ],
 "metadata": {
  "kernelspec": {
   "display_name": "Python 3",
   "language": "python",
   "name": "python3"
  },
  "language_info": {
   "codemirror_mode": {
    "name": "ipython",
    "version": 2
   },
   "file_extension": ".py",
   "mimetype": "text/x-python",
   "name": "python",
   "nbconvert_exporter": "python",
   "pygments_lexer": "ipython2",
   "version": "2.7.6"
  }
 },
 "nbformat": 4,
 "nbformat_minor": 0
}